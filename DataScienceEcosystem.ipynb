{
  "nbformat": 4,
  "nbformat_minor": 0,
  "metadata": {
    "colab": {
      "provenance": []
    },
    "kernelspec": {
      "name": "python3",
      "display_name": "Python 3"
    },
    "language_info": {
      "name": "python"
    }
  },
  "cells": [
    {
      "cell_type": "markdown",
      "source": [],
      "metadata": {
        "id": "goFWLo0ut2Qf"
      }
    },
    {
      "cell_type": "markdown",
      "source": [
        "# Data Science Tools and Ecosystem\n"
      ],
      "metadata": {
        "id": "hpkmEs7Pty9X"
      }
    },
    {
      "cell_type": "markdown",
      "source": [
        "## Hello I'm NEERAJ PVSR\n",
        "##### In this notebook, Data Science Tools and Ecosystem are summarized.\n"
      ],
      "metadata": {
        "id": "uhUoswZ1uI1v"
      }
    },
    {
      "cell_type": "markdown",
      "source": [
        "## Data Science Languages\n",
        "\n",
        "Here are some popular programming languages used in data science:\n",
        "\n",
        "* Python\n",
        "* R\n",
        "* SQL\n",
        "* Java (for large-scale data processing)\n",
        "* Julia (gaining popularity for scientific computing)\n",
        "* Scala (used for distributed computing)\n",
        "* C/C++ (for performance-critical tasks)\n",
        "* JavaScript (for data visualization and web applications)\n",
        "\n",
        "\n",
        "Here are three commonly used programming languages for data science, listed in no particular order:\n",
        "\n",
        "1. **Python:** Known for its readability, vast ecosystem of libraries (like NumPy, Pandas, Scikit-learn), and versatility in data manipulation, analysis, and machine learning.\n",
        "2. **R:** A powerful language specifically designed for statistical computing and graphics. It excels in data exploration, visualization, and advanced statistical modeling.\n",
        "3. **SQL:** The standard language for querying and manipulating data stored in relational databases. Essential for extracting and preparing data for further analysis in other languages.\n",
        "\n",
        "\n"
      ],
      "metadata": {
        "id": "6wgC61j4um2r"
      }
    },
    {
      "cell_type": "markdown",
      "source": [
        "## Data Science Libraries\n",
        "\n",
        "Some of the commonly used libraries used by Data Scientists include:\n",
        "\n",
        "1. **NumPy:** Provides a powerful array object for efficient numerical computations and linear algebra operations. It forms the foundation for many other data science libraries.\n",
        "2. **Pandas:** Offers high-performance, easy-to-use data structures like DataFrames and Series for data manipulation, cleaning, and analysis. It excels in working with tabular data.\n",
        "3. **Scikit-learn:** A comprehensive machine learning library providing a wide range of algorithms for classification, regression, clustering, and more. It simplifies model building and evaluation tasks in machine learning projects.\n",
        "\n"
      ],
      "metadata": {
        "id": "_nOUBZequysf"
      }
    },
    {
      "cell_type": "markdown",
      "source": [
        "| Data Science Tools |\n",
        "|-------------------|\n",
        "| Jupyter Notebook  |\n",
        "| RStudio           |\n",
        "| VS Code + Python  |\n"
      ],
      "metadata": {
        "id": "YMGKItKJv_7s"
      }
    },
    {
      "cell_type": "markdown",
      "source": [
        "### Below are a few examples of evaluating arithmetic expressions in Python.\n"
      ],
      "metadata": {
        "id": "1YttBy54w4SY"
      }
    },
    {
      "cell_type": "code",
      "source": [
        "\n",
        "# Addition\n",
        "print(3 + 4)\n",
        "\n",
        "# Subtraction\n",
        "print(3 - 4)\n",
        "\n",
        "# Multiplication\n",
        "print(3 * 4)\n",
        "\n",
        "# Division\n",
        "print(3 / 4)\n",
        "\n",
        "# Exponentiation\n",
        "print(3 ** 4)\n",
        "\n",
        "# Modulo\n",
        "print(3 % 4)\n",
        "\n",
        "# Floor division\n",
        "print(3 // 4)\n"
      ],
      "metadata": {
        "colab": {
          "base_uri": "https://localhost:8080/"
        },
        "id": "ifcNYBhlx1gC",
        "outputId": "9f883f50-17f2-4465-9ba3-75a612fadec9"
      },
      "execution_count": 6,
      "outputs": [
        {
          "output_type": "stream",
          "name": "stdout",
          "text": [
            "7\n",
            "-1\n",
            "12\n",
            "0.75\n",
            "81\n",
            "3\n",
            "0\n"
          ]
        }
      ]
    },
    {
      "cell_type": "code",
      "source": [
        "# This is a simple arithmetic expression to multiply then add integers.\n",
        "result = (3 * 4) + 5\n",
        "result\n"
      ],
      "metadata": {
        "colab": {
          "base_uri": "https://localhost:8080/"
        },
        "id": "DxOKOBHLyCCW",
        "outputId": "b45bc3ff-7ea0-4c11-be7b-bf922b4ea902"
      },
      "execution_count": 7,
      "outputs": [
        {
          "output_type": "execute_result",
          "data": {
            "text/plain": [
              "17"
            ]
          },
          "metadata": {},
          "execution_count": 7
        }
      ]
    },
    {
      "cell_type": "code",
      "source": [
        "# This will convert 200 minutes to hours by dividing by 60.\n",
        "hours = 200 / 60\n",
        "hours\n"
      ],
      "metadata": {
        "colab": {
          "base_uri": "https://localhost:8080/"
        },
        "id": "fdWLKsRnygtP",
        "outputId": "c1f4976d-7769-4716-de7e-ce9fe86c40a6"
      },
      "execution_count": 8,
      "outputs": [
        {
          "output_type": "execute_result",
          "data": {
            "text/plain": [
              "3.3333333333333335"
            ]
          },
          "metadata": {},
          "execution_count": 8
        }
      ]
    },
    {
      "cell_type": "markdown",
      "source": [
        "**Objectives:**\n",
        "\n",
        "- List popular languages for Data Science.\n",
        "- Introduce basic arithmetic operations in Python.\n",
        "- Demonstrate conversion of units (e.g., minutes to hours) in Python.\n",
        "- Illustrate the use of Jupyter Notebook for interactive computing.\n",
        "- Highlight the importance of commenting code for clarity and understanding.\n"
      ],
      "metadata": {
        "id": "LKyutLXUy7Xx"
      }
    },
    {
      "cell_type": "markdown",
      "source": [
        "##Neeraj PVSR"
      ],
      "metadata": {
        "id": "rPoTcOOZy9U-"
      }
    },
    {
      "cell_type": "markdown",
      "source": [],
      "metadata": {
        "id": "tQbQ-3wazQgH"
      }
    }
  ]
}